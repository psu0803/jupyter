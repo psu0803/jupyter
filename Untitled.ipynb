{
 "cells": [
  {
   "cell_type": "code",
   "execution_count": 2,
   "metadata": {},
   "outputs": [],
   "source": [
    "from sklearn import datasets\n",
    "iris = datasets.load_iris()\n",
    "X= iris.data\n",
    "y= iris.target\n",
    "from sklearn.model_selection import train_test_split\n",
    "X_train, X_test, y_train, y_test = train_test_split(X, y, test_size=.5)"
   ]
  },
  {
   "cell_type": "code",
   "execution_count": 7,
   "metadata": {},
   "outputs": [
    {
     "name": "stdout",
     "output_type": "stream",
     "text": [
      "[0 1 2 2 0 0 2 1 1 0 1 2 2 0 1 0 0 1 0 0 0 2 0 0 0 2 1 1 0 2 2 2 2 2 2 2 1\n",
      " 1 0 2 2 2 0 2 2 0 1 2 2 1 1 0 2 0 0 0 1 0 1 2 2 1 1 2 1 1 1 0 1 2 2 2 0 1\n",
      " 2]\n",
      "0.96\n"
     ]
    }
   ],
   "source": [
    "from sklearn import svm\n",
    "clf = svm.SVC(gamma=0.001, C=100.)\n",
    "clf.fit(X_train, y_train)\n",
    "predictions = clf.predict(X_test)\n",
    "print(y_test)\n",
    "from sklearn.metrics import accuracy_score\n",
    "print(accuracy_score(y_test, predictions))"
   ]
  },
  {
   "cell_type": "code",
   "execution_count": 8,
   "metadata": {},
   "outputs": [],
   "source": [
    "x = [[150], [156], [161], [167], [170], [174], [179]]\n",
    "y = [51.1, 55.3, 59.4, 64.2, 66.5, 69.3, 74.2]"
   ]
  },
  {
   "cell_type": "code",
   "execution_count": 11,
   "metadata": {},
   "outputs": [
    {
     "data": {
      "text/plain": [
       "SVR(C=100.0, cache_size=200, coef0=0.0, degree=3, epsilon=0.1, gamma=0.001,\n",
       "  kernel='rbf', max_iter=-1, shrinking=True, tol=0.001, verbose=False)"
      ]
     },
     "execution_count": 11,
     "metadata": {},
     "output_type": "execute_result"
    }
   ],
   "source": [
    "from sklearn.svm import SVR\n",
    "regr = SVR(gamma=0.001, C=100.)\n",
    "regr.fit(x, y)"
   ]
  },
  {
   "cell_type": "code",
   "execution_count": 13,
   "metadata": {},
   "outputs": [
    {
     "name": "stdout",
     "output_type": "stream",
     "text": [
      "[70.17372352]\n"
     ]
    }
   ],
   "source": [
    "y_pred = regr.predict([[175]])\n",
    "print(y_pred)"
   ]
  },
  {
   "cell_type": "code",
   "execution_count": 19,
   "metadata": {},
   "outputs": [
    {
     "name": "stdout",
     "output_type": "stream",
     "text": [
      "[7073.70407033]\n"
     ]
    }
   ],
   "source": [
    "import pandas as pd\n",
    "data = pd.read_csv('acci.csv', encoding='CP949')\n",
    "\n",
    "X = data.iloc[:-1, 3:]\n",
    "y = data.iloc[:-1, 2]\n",
    "from sklearn.linear_model import LinearRegression\n",
    "regr = LinearRegression()\n",
    "regr.fit(X, y)\n",
    "y_pred = regr.predict([[202, 11008, 3846, 6770, 392]])\n",
    "print(y_pred)\n",
    "\n"
   ]
  },
  {
   "cell_type": "code",
   "execution_count": 22,
   "metadata": {},
   "outputs": [
    {
     "name": "stdout",
     "output_type": "stream",
     "text": [
      "[202.]\n"
     ]
    }
   ],
   "source": [
    "import pandas as pd\n",
    "data = pd.read_csv('acci.csv', encoding='CP949')\n",
    "x=data[['발생건수','부상자수','중상','경상']]\n",
    "y=data['사망자수']\n",
    "x=x.iloc[:-1,:]\n",
    "y=y.iloc[:-1]\n",
    "from sklearn.linear_model import LinearRegression\n",
    "regr = LinearRegression()\n",
    "regr.fit(X, y)\n",
    "y_pred = regr.predict([[202, 11008, 3846, 6770, 392]])\n",
    "print(y_pred)\n"
   ]
  },
  {
   "cell_type": "code",
   "execution_count": 21,
   "metadata": {},
   "outputs": [
    {
     "name": "stdout",
     "output_type": "stream",
     "text": [
      "[7073.70407033]\n",
      "[202.]\n"
     ]
    }
   ],
   "source": [
    "import pandas as pd\n",
    "data = pd.read_csv('acci.csv', encoding='CP949')\n",
    "\n",
    "X = data.iloc[:-1, 3:]\n",
    "y = data.iloc[:-1, 2]\n",
    "from sklearn.linear_model import LinearRegression\n",
    "regr = LinearRegression()\n",
    "regr.fit(X, y)\n",
    "y_pred = regr.predict([[202, 11008, 3846, 6770, 392]])\n",
    "print(y_pred)\n",
    "\n",
    "import pandas as pd\n",
    "data = pd.read_csv('acci.csv', encoding='CP949')\n",
    "x=data[['발생건수','부상자수','중상','경상']]\n",
    "y=data['사망자수']\n",
    "x=x.iloc[:-1,:]\n",
    "y=y.iloc[:-1]\n",
    "from sklearn.linear_model import LinearRegression\n",
    "regr = LinearRegression()\n",
    "regr.fit(X, y)\n",
    "y_pred = regr.predict([[202, 11008, 3846, 6770, 392]])\n",
    "print(y_pred)\n"
   ]
  }
 ],
 "metadata": {
  "kernelspec": {
   "display_name": "Python 3",
   "language": "python",
   "name": "python3"
  },
  "language_info": {
   "codemirror_mode": {
    "name": "ipython",
    "version": 3
   },
   "file_extension": ".py",
   "mimetype": "text/x-python",
   "name": "python",
   "nbconvert_exporter": "python",
   "pygments_lexer": "ipython3",
   "version": "3.7.0"
  }
 },
 "nbformat": 4,
 "nbformat_minor": 2
}
